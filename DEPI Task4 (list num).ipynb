{
 "cells": [
  {
   "cell_type": "code",
   "execution_count": 1,
   "id": "3e9fd0d5",
   "metadata": {},
   "outputs": [
    {
     "name": "stdout",
     "output_type": "stream",
     "text": [
      "[36]\n"
     ]
    }
   ],
   "source": [
    "def process_numbers(numbers):\n",
    "    evens = filter(lambda x: x % 2 == 0, numbers)\n",
    "    squares = map(lambda x: x**2, evens)\n",
    "    result = list(filter(lambda x: x > 20, squares))\n",
    "    \n",
    "    return result\n",
    "\n",
    "numbers = [1, 2, 3, 4, 5, 6]\n",
    "print(process_numbers(numbers)) "
   ]
  },
  {
   "cell_type": "code",
   "execution_count": 2,
   "id": "692100db",
   "metadata": {},
   "outputs": [
    {
     "name": "stdout",
     "output_type": "stream",
     "text": [
      "Enter list of numbers : [1,2,3,4,5,6]\n",
      "Output: [36]\n"
     ]
    }
   ],
   "source": [
    "def process_numbers(numbers):\n",
    "    evens = filter(lambda x: x % 2 == 0, numbers)\n",
    "    squares = map(lambda x: x**2, evens)\n",
    "    result = list(filter(lambda x: x > 20, squares))\n",
    "    return result\n",
    "\n",
    "user_input = input(\"Enter list of numbers : \")\n",
    "\n",
    "print(\"Output:\", process_numbers(numbers))\n"
   ]
  },
  {
   "cell_type": "code",
   "execution_count": null,
   "id": "c17d03b6",
   "metadata": {},
   "outputs": [],
   "source": []
  }
 ],
 "metadata": {
  "kernelspec": {
   "display_name": "Python 3 (ipykernel)",
   "language": "python",
   "name": "python3"
  },
  "language_info": {
   "codemirror_mode": {
    "name": "ipython",
    "version": 3
   },
   "file_extension": ".py",
   "mimetype": "text/x-python",
   "name": "python",
   "nbconvert_exporter": "python",
   "pygments_lexer": "ipython3",
   "version": "3.9.17"
  }
 },
 "nbformat": 4,
 "nbformat_minor": 5
}
