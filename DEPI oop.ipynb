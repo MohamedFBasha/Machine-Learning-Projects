{
 "cells": [
  {
   "cell_type": "code",
   "execution_count": 3,
   "id": "67d3a426",
   "metadata": {},
   "outputs": [],
   "source": [
    "class UserAccount:\n",
    "    def __init__(self, firstname, lastname):\n",
    "        self.firstname = firstname\n",
    "        self.lastname = lastname\n",
    "        self.incomes = []   \n",
    "        self.expenses = [] \n",
    "        \n",
    "    def add_income(self, amount, description):\n",
    "        self.incomes.append({'amount': amount, 'description': description})\n",
    "\n",
    "    def add_expense(self, amount, description):\n",
    "        self.expenses.append({'amount': amount, 'description': description})\n",
    "\n",
    "    def total_income(self):\n",
    "        return sum(income['amount'] for income in self.incomes)\n",
    "\n",
    "    def total_expense(self):\n",
    "        return sum(expense['amount'] for expense in self.expenses)\n",
    "\n",
    "    def account_balance(self):\n",
    "        return self.total_income() - self.total_expense()\n",
    "\n",
    "    def account_info(self):\n",
    "        info = f\"Account Holder: {self.firstname} {self.lastname}\\n\"\n",
    "        info += f\"Total Income: {self.total_income()}\\n\"\n",
    "        info += f\"Total Expenses: {self.total_expense()}\\n\"\n",
    "        info += f\"Account Balance: {self.account_balance()}\\n\\n\"\n",
    "\n",
    "        info += \"Income Details:\\n\"\n",
    "        for income in self.incomes:\n",
    "            info += f\"  + {income['amount']} : {income['description']}\\n\"\n",
    "\n",
    "        info += \"\\nExpense Details:\\n\"\n",
    "        for expense in self.expenses:\n",
    "            info += f\"  - {expense['amount']} : {expense['description']}\\n\"\n",
    "\n",
    "        return info"
   ]
  },
  {
   "cell_type": "code",
   "execution_count": 4,
   "id": "fa930a78",
   "metadata": {},
   "outputs": [
    {
     "name": "stdout",
     "output_type": "stream",
     "text": [
      "Account Holder: Ahmed Mostafa\n",
      "Total Income: 5200\n",
      "Total Expenses: 1700\n",
      "Account Balance: 3500\n",
      "\n",
      "Income Details:\n",
      "  + 5000 : Salary\n",
      "  + 200 : Freelance Work\n",
      "\n",
      "Expense Details:\n",
      "  - 1500 : Rent\n",
      "  - 200 : Utilities\n",
      "\n"
     ]
    }
   ],
   "source": [
    "person = UserAccount(\"Ahmed\", \"Mostafa\")\n",
    "person.add_income(5000, \"Salary\")\n",
    "person.add_income(200, \"Freelance Work\")\n",
    "person.add_expense(1500, \"Rent\")\n",
    "person.add_expense(200, \"Utilities\")\n",
    "\n",
    "print(person.account_info())"
   ]
  },
  {
   "cell_type": "code",
   "execution_count": null,
   "id": "c63c1778",
   "metadata": {},
   "outputs": [],
   "source": []
  }
 ],
 "metadata": {
  "kernelspec": {
   "display_name": "Python 3 (ipykernel)",
   "language": "python",
   "name": "python3"
  },
  "language_info": {
   "codemirror_mode": {
    "name": "ipython",
    "version": 3
   },
   "file_extension": ".py",
   "mimetype": "text/x-python",
   "name": "python",
   "nbconvert_exporter": "python",
   "pygments_lexer": "ipython3",
   "version": "3.9.17"
  }
 },
 "nbformat": 4,
 "nbformat_minor": 5
}
