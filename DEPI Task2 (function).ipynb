{
 "cells": [
  {
   "cell_type": "code",
   "execution_count": 1,
   "id": "faad6e70",
   "metadata": {},
   "outputs": [
    {
     "name": "stdout",
     "output_type": "stream",
     "text": [
      "input the text  Mohamed Fathy \n",
      "reversed text   yhtaF demahoM\n",
      "length of text  14\n",
      "vowels count : 4\n"
     ]
    }
   ],
   "source": [
    "def string_info(text):\n",
    "    reversed_text = text[::-1]\n",
    "    text_length = len(text)\n",
    "    \n",
    "    vowels_list = \"aeiouAEIOU\"\n",
    "    vowels_count = sum(1 for letter in text if letter in vowels_list)\n",
    "    \n",
    "    return reversed_text, text_length, vowels_count\n",
    "\n",
    "user_input = input(\"input the text  \")\n",
    "backwards, length, vowel_num = string_info(user_input)\n",
    "\n",
    "print(\"reversed text \", backwards)\n",
    "print(\"length of text \", length)\n",
    "print(\"vowels count :\", vowel_num)"
   ]
  },
  {
   "cell_type": "code",
   "execution_count": null,
   "id": "66579929",
   "metadata": {},
   "outputs": [],
   "source": []
  }
 ],
 "metadata": {
  "kernelspec": {
   "display_name": "Python 3 (ipykernel)",
   "language": "python",
   "name": "python3"
  },
  "language_info": {
   "codemirror_mode": {
    "name": "ipython",
    "version": 3
   },
   "file_extension": ".py",
   "mimetype": "text/x-python",
   "name": "python",
   "nbconvert_exporter": "python",
   "pygments_lexer": "ipython3",
   "version": "3.9.17"
  }
 },
 "nbformat": 4,
 "nbformat_minor": 5
}
