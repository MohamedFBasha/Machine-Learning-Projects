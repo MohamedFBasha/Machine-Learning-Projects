{
 "cells": [
  {
   "cell_type": "code",
   "execution_count": 1,
   "id": "718d0935",
   "metadata": {},
   "outputs": [],
   "source": [
    "import numpy as np\n",
    "import pandas as pd"
   ]
  },
  {
   "cell_type": "code",
   "execution_count": 2,
   "id": "7b06b8cb",
   "metadata": {},
   "outputs": [
    {
     "name": "stdout",
     "output_type": "stream",
     "text": [
      "(392, 9)\n"
     ]
    },
    {
     "data": {
      "text/html": [
       "<div>\n",
       "<style scoped>\n",
       "    .dataframe tbody tr th:only-of-type {\n",
       "        vertical-align: middle;\n",
       "    }\n",
       "\n",
       "    .dataframe tbody tr th {\n",
       "        vertical-align: top;\n",
       "    }\n",
       "\n",
       "    .dataframe thead th {\n",
       "        text-align: right;\n",
       "    }\n",
       "</style>\n",
       "<table border=\"1\" class=\"dataframe\">\n",
       "  <thead>\n",
       "    <tr style=\"text-align: right;\">\n",
       "      <th></th>\n",
       "      <th>mpg</th>\n",
       "      <th>cylinders</th>\n",
       "      <th>displacement</th>\n",
       "      <th>horsepower</th>\n",
       "      <th>weight</th>\n",
       "      <th>acceleration</th>\n",
       "      <th>year</th>\n",
       "      <th>origin</th>\n",
       "      <th>name</th>\n",
       "    </tr>\n",
       "  </thead>\n",
       "  <tbody>\n",
       "    <tr>\n",
       "      <th>0</th>\n",
       "      <td>18.0</td>\n",
       "      <td>8</td>\n",
       "      <td>307.0</td>\n",
       "      <td>130</td>\n",
       "      <td>3504</td>\n",
       "      <td>12.0</td>\n",
       "      <td>1970</td>\n",
       "      <td>USA</td>\n",
       "      <td>chevrolet chevelle malibu</td>\n",
       "    </tr>\n",
       "    <tr>\n",
       "      <th>1</th>\n",
       "      <td>15.0</td>\n",
       "      <td>8</td>\n",
       "      <td>350.0</td>\n",
       "      <td>165</td>\n",
       "      <td>3693</td>\n",
       "      <td>11.5</td>\n",
       "      <td>1970</td>\n",
       "      <td>USA</td>\n",
       "      <td>buick skylark 320</td>\n",
       "    </tr>\n",
       "    <tr>\n",
       "      <th>2</th>\n",
       "      <td>18.0</td>\n",
       "      <td>8</td>\n",
       "      <td>318.0</td>\n",
       "      <td>150</td>\n",
       "      <td>3436</td>\n",
       "      <td>11.0</td>\n",
       "      <td>1970</td>\n",
       "      <td>USA</td>\n",
       "      <td>plymouth satellite</td>\n",
       "    </tr>\n",
       "    <tr>\n",
       "      <th>3</th>\n",
       "      <td>16.0</td>\n",
       "      <td>8</td>\n",
       "      <td>304.0</td>\n",
       "      <td>150</td>\n",
       "      <td>3433</td>\n",
       "      <td>12.0</td>\n",
       "      <td>1970</td>\n",
       "      <td>USA</td>\n",
       "      <td>amc rebel sst</td>\n",
       "    </tr>\n",
       "    <tr>\n",
       "      <th>4</th>\n",
       "      <td>17.0</td>\n",
       "      <td>8</td>\n",
       "      <td>302.0</td>\n",
       "      <td>140</td>\n",
       "      <td>3449</td>\n",
       "      <td>10.5</td>\n",
       "      <td>1970</td>\n",
       "      <td>USA</td>\n",
       "      <td>ford torino</td>\n",
       "    </tr>\n",
       "  </tbody>\n",
       "</table>\n",
       "</div>"
      ],
      "text/plain": [
       "    mpg  cylinders  displacement  horsepower  weight  acceleration  year  \\\n",
       "0  18.0          8         307.0         130    3504          12.0  1970   \n",
       "1  15.0          8         350.0         165    3693          11.5  1970   \n",
       "2  18.0          8         318.0         150    3436          11.0  1970   \n",
       "3  16.0          8         304.0         150    3433          12.0  1970   \n",
       "4  17.0          8         302.0         140    3449          10.5  1970   \n",
       "\n",
       "  origin                       name  \n",
       "0    USA  chevrolet chevelle malibu  \n",
       "1    USA          buick skylark 320  \n",
       "2    USA         plymouth satellite  \n",
       "3    USA              amc rebel sst  \n",
       "4    USA                ford torino  "
      ]
     },
     "execution_count": 2,
     "metadata": {},
     "output_type": "execute_result"
    }
   ],
   "source": [
    "df=pd.read_csv(\"E:/NTI/auto-mpg_without nan.csv\")\n",
    "print(df.shape)\n",
    "df.head()"
   ]
  },
  {
   "cell_type": "code",
   "execution_count": 3,
   "id": "f73caa33",
   "metadata": {},
   "outputs": [],
   "source": [
    "df = df.drop('name', axis=1)\n",
    "df['origin_encoded'] = df['origin'].astype('category').cat.codes"
   ]
  },
  {
   "cell_type": "code",
   "execution_count": 4,
   "id": "3b2df043",
   "metadata": {},
   "outputs": [],
   "source": [
    "df = df.drop('origin', axis=1)\n"
   ]
  },
  {
   "cell_type": "code",
   "execution_count": 5,
   "id": "ea3ba349",
   "metadata": {},
   "outputs": [],
   "source": [
    "df = df.astype({col: float for col in df.select_dtypes(include='int').columns})"
   ]
  },
  {
   "cell_type": "code",
   "execution_count": 6,
   "id": "6257b71d",
   "metadata": {},
   "outputs": [
    {
     "name": "stdout",
     "output_type": "stream",
     "text": [
      "<class 'pandas.core.frame.DataFrame'>\n",
      "RangeIndex: 392 entries, 0 to 391\n",
      "Data columns (total 8 columns):\n",
      " #   Column          Non-Null Count  Dtype  \n",
      "---  ------          --------------  -----  \n",
      " 0   mpg             392 non-null    float64\n",
      " 1   cylinders       392 non-null    float64\n",
      " 2   displacement    392 non-null    float64\n",
      " 3   horsepower      392 non-null    float64\n",
      " 4   weight          392 non-null    float64\n",
      " 5   acceleration    392 non-null    float64\n",
      " 6   year            392 non-null    float64\n",
      " 7   origin_encoded  392 non-null    int8   \n",
      "dtypes: float64(7), int8(1)\n",
      "memory usage: 21.9 KB\n"
     ]
    }
   ],
   "source": [
    "df.info()"
   ]
  },
  {
   "cell_type": "code",
   "execution_count": 7,
   "id": "1fbe81ee",
   "metadata": {},
   "outputs": [
    {
     "data": {
      "text/html": [
       "<div>\n",
       "<style scoped>\n",
       "    .dataframe tbody tr th:only-of-type {\n",
       "        vertical-align: middle;\n",
       "    }\n",
       "\n",
       "    .dataframe tbody tr th {\n",
       "        vertical-align: top;\n",
       "    }\n",
       "\n",
       "    .dataframe thead th {\n",
       "        text-align: right;\n",
       "    }\n",
       "</style>\n",
       "<table border=\"1\" class=\"dataframe\">\n",
       "  <thead>\n",
       "    <tr style=\"text-align: right;\">\n",
       "      <th></th>\n",
       "      <th>mpg</th>\n",
       "      <th>cylinders</th>\n",
       "      <th>displacement</th>\n",
       "      <th>horsepower</th>\n",
       "      <th>weight</th>\n",
       "      <th>acceleration</th>\n",
       "      <th>year</th>\n",
       "      <th>origin_encoded</th>\n",
       "    </tr>\n",
       "  </thead>\n",
       "  <tbody>\n",
       "    <tr>\n",
       "      <th>0</th>\n",
       "      <td>18.0</td>\n",
       "      <td>8.0</td>\n",
       "      <td>307.0</td>\n",
       "      <td>130.0</td>\n",
       "      <td>3504.0</td>\n",
       "      <td>12.0</td>\n",
       "      <td>1970.0</td>\n",
       "      <td>2</td>\n",
       "    </tr>\n",
       "    <tr>\n",
       "      <th>1</th>\n",
       "      <td>15.0</td>\n",
       "      <td>8.0</td>\n",
       "      <td>350.0</td>\n",
       "      <td>165.0</td>\n",
       "      <td>3693.0</td>\n",
       "      <td>11.5</td>\n",
       "      <td>1970.0</td>\n",
       "      <td>2</td>\n",
       "    </tr>\n",
       "    <tr>\n",
       "      <th>2</th>\n",
       "      <td>18.0</td>\n",
       "      <td>8.0</td>\n",
       "      <td>318.0</td>\n",
       "      <td>150.0</td>\n",
       "      <td>3436.0</td>\n",
       "      <td>11.0</td>\n",
       "      <td>1970.0</td>\n",
       "      <td>2</td>\n",
       "    </tr>\n",
       "    <tr>\n",
       "      <th>3</th>\n",
       "      <td>16.0</td>\n",
       "      <td>8.0</td>\n",
       "      <td>304.0</td>\n",
       "      <td>150.0</td>\n",
       "      <td>3433.0</td>\n",
       "      <td>12.0</td>\n",
       "      <td>1970.0</td>\n",
       "      <td>2</td>\n",
       "    </tr>\n",
       "    <tr>\n",
       "      <th>4</th>\n",
       "      <td>17.0</td>\n",
       "      <td>8.0</td>\n",
       "      <td>302.0</td>\n",
       "      <td>140.0</td>\n",
       "      <td>3449.0</td>\n",
       "      <td>10.5</td>\n",
       "      <td>1970.0</td>\n",
       "      <td>2</td>\n",
       "    </tr>\n",
       "  </tbody>\n",
       "</table>\n",
       "</div>"
      ],
      "text/plain": [
       "    mpg  cylinders  displacement  horsepower  weight  acceleration    year  \\\n",
       "0  18.0        8.0         307.0       130.0  3504.0          12.0  1970.0   \n",
       "1  15.0        8.0         350.0       165.0  3693.0          11.5  1970.0   \n",
       "2  18.0        8.0         318.0       150.0  3436.0          11.0  1970.0   \n",
       "3  16.0        8.0         304.0       150.0  3433.0          12.0  1970.0   \n",
       "4  17.0        8.0         302.0       140.0  3449.0          10.5  1970.0   \n",
       "\n",
       "   origin_encoded  \n",
       "0               2  \n",
       "1               2  \n",
       "2               2  \n",
       "3               2  \n",
       "4               2  "
      ]
     },
     "execution_count": 7,
     "metadata": {},
     "output_type": "execute_result"
    }
   ],
   "source": [
    "df.head()"
   ]
  },
  {
   "cell_type": "code",
   "execution_count": 8,
   "id": "e03a7adc",
   "metadata": {},
   "outputs": [
    {
     "name": "stdout",
     "output_type": "stream",
     "text": [
      "                 mpg  cylinders  displacement  horsepower  weight  \\\n",
      "mpg             1.00       0.78          0.81        0.78    0.83   \n",
      "cylinders       0.78       1.00          0.95        0.84    0.90   \n",
      "displacement    0.81       0.95          1.00        0.90    0.93   \n",
      "horsepower      0.78       0.84          0.90        1.00    0.86   \n",
      "weight          0.83       0.90          0.93        0.86    1.00   \n",
      "acceleration    0.42       0.50          0.54        0.69    0.42   \n",
      "year            0.58       0.35          0.37        0.42    0.31   \n",
      "origin_encoded  0.47       0.56          0.59        0.45    0.52   \n",
      "\n",
      "                acceleration  year  origin_encoded  \n",
      "mpg                     0.42  0.58            0.47  \n",
      "cylinders               0.50  0.35            0.56  \n",
      "displacement            0.54  0.37            0.59  \n",
      "horsepower              0.69  0.42            0.45  \n",
      "weight                  0.42  0.31            0.52  \n",
      "acceleration            1.00  0.29            0.26  \n",
      "year                    0.29  1.00            0.07  \n",
      "origin_encoded          0.26  0.07            1.00  \n"
     ]
    }
   ],
   "source": [
    "df_corr = df.corr().abs().round(2)\n",
    "print(df_corr)\n"
   ]
  },
  {
   "cell_type": "code",
   "execution_count": 9,
   "id": "b1ac75ad",
   "metadata": {},
   "outputs": [
    {
     "data": {
      "text/html": [
       "<div>\n",
       "<style scoped>\n",
       "    .dataframe tbody tr th:only-of-type {\n",
       "        vertical-align: middle;\n",
       "    }\n",
       "\n",
       "    .dataframe tbody tr th {\n",
       "        vertical-align: top;\n",
       "    }\n",
       "\n",
       "    .dataframe thead th {\n",
       "        text-align: right;\n",
       "    }\n",
       "</style>\n",
       "<table border=\"1\" class=\"dataframe\">\n",
       "  <thead>\n",
       "    <tr style=\"text-align: right;\">\n",
       "      <th></th>\n",
       "      <th>mpg</th>\n",
       "      <th>cylinders</th>\n",
       "      <th>displacement</th>\n",
       "      <th>horsepower</th>\n",
       "      <th>weight</th>\n",
       "      <th>acceleration</th>\n",
       "      <th>year</th>\n",
       "      <th>origin_encoded</th>\n",
       "    </tr>\n",
       "  </thead>\n",
       "  <tbody>\n",
       "    <tr>\n",
       "      <th>mpg</th>\n",
       "      <td>1.00</td>\n",
       "      <td>0.78</td>\n",
       "      <td>0.81</td>\n",
       "      <td>0.78</td>\n",
       "      <td>0.83</td>\n",
       "      <td>0.42</td>\n",
       "      <td>0.58</td>\n",
       "      <td>0.47</td>\n",
       "    </tr>\n",
       "    <tr>\n",
       "      <th>cylinders</th>\n",
       "      <td>0.78</td>\n",
       "      <td>1.00</td>\n",
       "      <td>0.95</td>\n",
       "      <td>0.84</td>\n",
       "      <td>0.90</td>\n",
       "      <td>0.50</td>\n",
       "      <td>0.35</td>\n",
       "      <td>0.56</td>\n",
       "    </tr>\n",
       "    <tr>\n",
       "      <th>displacement</th>\n",
       "      <td>0.81</td>\n",
       "      <td>0.95</td>\n",
       "      <td>1.00</td>\n",
       "      <td>0.90</td>\n",
       "      <td>0.93</td>\n",
       "      <td>0.54</td>\n",
       "      <td>0.37</td>\n",
       "      <td>0.59</td>\n",
       "    </tr>\n",
       "    <tr>\n",
       "      <th>horsepower</th>\n",
       "      <td>0.78</td>\n",
       "      <td>0.84</td>\n",
       "      <td>0.90</td>\n",
       "      <td>1.00</td>\n",
       "      <td>0.86</td>\n",
       "      <td>0.69</td>\n",
       "      <td>0.42</td>\n",
       "      <td>0.45</td>\n",
       "    </tr>\n",
       "    <tr>\n",
       "      <th>weight</th>\n",
       "      <td>0.83</td>\n",
       "      <td>0.90</td>\n",
       "      <td>0.93</td>\n",
       "      <td>0.86</td>\n",
       "      <td>1.00</td>\n",
       "      <td>0.42</td>\n",
       "      <td>0.31</td>\n",
       "      <td>0.52</td>\n",
       "    </tr>\n",
       "  </tbody>\n",
       "</table>\n",
       "</div>"
      ],
      "text/plain": [
       "               mpg  cylinders  displacement  horsepower  weight  acceleration  \\\n",
       "mpg           1.00       0.78          0.81        0.78    0.83          0.42   \n",
       "cylinders     0.78       1.00          0.95        0.84    0.90          0.50   \n",
       "displacement  0.81       0.95          1.00        0.90    0.93          0.54   \n",
       "horsepower    0.78       0.84          0.90        1.00    0.86          0.69   \n",
       "weight        0.83       0.90          0.93        0.86    1.00          0.42   \n",
       "\n",
       "              year  origin_encoded  \n",
       "mpg           0.58            0.47  \n",
       "cylinders     0.35            0.56  \n",
       "displacement  0.37            0.59  \n",
       "horsepower    0.42            0.45  \n",
       "weight        0.31            0.52  "
      ]
     },
     "execution_count": 9,
     "metadata": {},
     "output_type": "execute_result"
    }
   ],
   "source": [
    "features_selection=df_corr[df_corr[\"mpg\"]>=0.7]\n",
    "features_selection"
   ]
  },
  {
   "cell_type": "code",
   "execution_count": 10,
   "id": "204352ed",
   "metadata": {},
   "outputs": [
    {
     "data": {
      "text/plain": [
       "['mpg', 'cylinders', 'displacement', 'horsepower', 'weight']"
      ]
     },
     "execution_count": 10,
     "metadata": {},
     "output_type": "execute_result"
    }
   ],
   "source": [
    "features_selection=list(df_corr[df_corr[\"mpg\"]>=0.7].index)\n",
    "features_selection"
   ]
  },
  {
   "cell_type": "code",
   "execution_count": 11,
   "id": "5617b870",
   "metadata": {},
   "outputs": [
    {
     "data": {
      "text/plain": [
       "['cylinders', 'displacement', 'horsepower', 'weight']"
      ]
     },
     "execution_count": 11,
     "metadata": {},
     "output_type": "execute_result"
    }
   ],
   "source": [
    "features_selection.remove('mpg')\n",
    "features_selection"
   ]
  },
  {
   "cell_type": "code",
   "execution_count": 12,
   "id": "7374024b",
   "metadata": {},
   "outputs": [],
   "source": [
    "x = df.drop('mpg', axis=1)\n"
   ]
  },
  {
   "cell_type": "code",
   "execution_count": 13,
   "id": "c60635a1",
   "metadata": {},
   "outputs": [
    {
     "data": {
      "text/html": [
       "<div>\n",
       "<style scoped>\n",
       "    .dataframe tbody tr th:only-of-type {\n",
       "        vertical-align: middle;\n",
       "    }\n",
       "\n",
       "    .dataframe tbody tr th {\n",
       "        vertical-align: top;\n",
       "    }\n",
       "\n",
       "    .dataframe thead th {\n",
       "        text-align: right;\n",
       "    }\n",
       "</style>\n",
       "<table border=\"1\" class=\"dataframe\">\n",
       "  <thead>\n",
       "    <tr style=\"text-align: right;\">\n",
       "      <th></th>\n",
       "      <th>cylinders</th>\n",
       "      <th>displacement</th>\n",
       "      <th>horsepower</th>\n",
       "      <th>weight</th>\n",
       "    </tr>\n",
       "  </thead>\n",
       "  <tbody>\n",
       "    <tr>\n",
       "      <th>0</th>\n",
       "      <td>8.0</td>\n",
       "      <td>307.0</td>\n",
       "      <td>130.0</td>\n",
       "      <td>3504.0</td>\n",
       "    </tr>\n",
       "    <tr>\n",
       "      <th>1</th>\n",
       "      <td>8.0</td>\n",
       "      <td>350.0</td>\n",
       "      <td>165.0</td>\n",
       "      <td>3693.0</td>\n",
       "    </tr>\n",
       "    <tr>\n",
       "      <th>2</th>\n",
       "      <td>8.0</td>\n",
       "      <td>318.0</td>\n",
       "      <td>150.0</td>\n",
       "      <td>3436.0</td>\n",
       "    </tr>\n",
       "    <tr>\n",
       "      <th>3</th>\n",
       "      <td>8.0</td>\n",
       "      <td>304.0</td>\n",
       "      <td>150.0</td>\n",
       "      <td>3433.0</td>\n",
       "    </tr>\n",
       "    <tr>\n",
       "      <th>4</th>\n",
       "      <td>8.0</td>\n",
       "      <td>302.0</td>\n",
       "      <td>140.0</td>\n",
       "      <td>3449.0</td>\n",
       "    </tr>\n",
       "    <tr>\n",
       "      <th>...</th>\n",
       "      <td>...</td>\n",
       "      <td>...</td>\n",
       "      <td>...</td>\n",
       "      <td>...</td>\n",
       "    </tr>\n",
       "    <tr>\n",
       "      <th>387</th>\n",
       "      <td>4.0</td>\n",
       "      <td>140.0</td>\n",
       "      <td>86.0</td>\n",
       "      <td>2790.0</td>\n",
       "    </tr>\n",
       "    <tr>\n",
       "      <th>388</th>\n",
       "      <td>4.0</td>\n",
       "      <td>97.0</td>\n",
       "      <td>52.0</td>\n",
       "      <td>2130.0</td>\n",
       "    </tr>\n",
       "    <tr>\n",
       "      <th>389</th>\n",
       "      <td>4.0</td>\n",
       "      <td>135.0</td>\n",
       "      <td>84.0</td>\n",
       "      <td>2295.0</td>\n",
       "    </tr>\n",
       "    <tr>\n",
       "      <th>390</th>\n",
       "      <td>4.0</td>\n",
       "      <td>120.0</td>\n",
       "      <td>79.0</td>\n",
       "      <td>2625.0</td>\n",
       "    </tr>\n",
       "    <tr>\n",
       "      <th>391</th>\n",
       "      <td>4.0</td>\n",
       "      <td>119.0</td>\n",
       "      <td>82.0</td>\n",
       "      <td>2720.0</td>\n",
       "    </tr>\n",
       "  </tbody>\n",
       "</table>\n",
       "<p>392 rows × 4 columns</p>\n",
       "</div>"
      ],
      "text/plain": [
       "     cylinders  displacement  horsepower  weight\n",
       "0          8.0         307.0       130.0  3504.0\n",
       "1          8.0         350.0       165.0  3693.0\n",
       "2          8.0         318.0       150.0  3436.0\n",
       "3          8.0         304.0       150.0  3433.0\n",
       "4          8.0         302.0       140.0  3449.0\n",
       "..         ...           ...         ...     ...\n",
       "387        4.0         140.0        86.0  2790.0\n",
       "388        4.0          97.0        52.0  2130.0\n",
       "389        4.0         135.0        84.0  2295.0\n",
       "390        4.0         120.0        79.0  2625.0\n",
       "391        4.0         119.0        82.0  2720.0\n",
       "\n",
       "[392 rows x 4 columns]"
      ]
     },
     "execution_count": 13,
     "metadata": {},
     "output_type": "execute_result"
    }
   ],
   "source": [
    "features_selection_1= x[features_selection]\n",
    "features_selection_1"
   ]
  },
  {
   "cell_type": "code",
   "execution_count": 15,
   "id": "2b809dd0",
   "metadata": {},
   "outputs": [
    {
     "name": "stdout",
     "output_type": "stream",
     "text": [
      "                cylinders  displacement  horsepower  weight  acceleration  \\\n",
      "cylinders            1.00          0.95        0.84    0.90          0.50   \n",
      "displacement         0.95          1.00        0.90    0.93          0.54   \n",
      "horsepower           0.84          0.90        1.00    0.86          0.69   \n",
      "weight               0.90          0.93        0.86    1.00          0.42   \n",
      "acceleration         0.50          0.54        0.69    0.42          1.00   \n",
      "year                 0.35          0.37        0.42    0.31          0.29   \n",
      "origin_encoded       0.56          0.59        0.45    0.52          0.26   \n",
      "\n",
      "                year  origin_encoded  \n",
      "cylinders       0.35            0.56  \n",
      "displacement    0.37            0.59  \n",
      "horsepower      0.42            0.45  \n",
      "weight          0.31            0.52  \n",
      "acceleration    0.29            0.26  \n",
      "year            1.00            0.07  \n",
      "origin_encoded  0.07            1.00  \n"
     ]
    }
   ],
   "source": [
    "corr_matrix = x.corr().abs().round(2)\n",
    "\n",
    "print(corr_matrix)"
   ]
  },
  {
   "cell_type": "code",
   "execution_count": 18,
   "id": "d5d70372",
   "metadata": {},
   "outputs": [
    {
     "data": {
      "image/png": "[encoded data removed]",
      "text/plain": [
       "<Figure size 800x600 with 2 Axes>"
      ]
     },
     "metadata": {},
     "output_type": "display_data"
    }
   ],
   "source": [
    "import seaborn as sns\n",
    "import matplotlib.pyplot as plt\n",
    "\n",
    "plt.figure(figsize=(8, 6))\n",
    "sns.heatmap(corr_matrix, annot=True, cmap=\"cubehelix\")\n",
    "plt.title(\"Feature Correlation Heatmap\")\n",
    "plt.show()\n"
   ]
  },
  {
   "cell_type": "code",
   "execution_count": 21,
   "id": "abd9cbdf",
   "metadata": {},
   "outputs": [
    {
     "name": "stdout",
     "output_type": "stream",
     "text": [
      "Features to drop: ['displacement', 'horsepower', 'weight']\n",
      "\n",
      "Remaining features:\n",
      "     cylinders  acceleration    year  origin_encoded\n",
      "0          8.0          12.0  1970.0               2\n",
      "1          8.0          11.5  1970.0               2\n",
      "2          8.0          11.0  1970.0               2\n",
      "3          8.0          12.0  1970.0               2\n",
      "4          8.0          10.5  1970.0               2\n",
      "..         ...           ...     ...             ...\n",
      "387        4.0          15.6  1982.0               2\n",
      "388        4.0          24.6  1982.0               0\n",
      "389        4.0          11.6  1982.0               2\n",
      "390        4.0          18.6  1982.0               2\n",
      "391        4.0          19.4  1982.0               2\n",
      "\n",
      "[392 rows x 4 columns]\n"
     ]
    }
   ],
   "source": [
    "to_drop = []\n",
    "\n",
    "for i in range(len(corr_matrix.columns)):\n",
    "    for j in range(i + 1, len(corr_matrix.columns)):\n",
    "        col1 = corr_matrix.columns[i]\n",
    "        col2 = corr_matrix.columns[j]\n",
    "\n",
    "        # لو الارتباط أكبر من 0.80 نحذف أحدهم (وليكن col2)\n",
    "        if corr_matrix.iloc[i, j] > 0.80:\n",
    "            if col2 not in to_drop:\n",
    "                to_drop.append(col2)\n",
    "\n",
    "# حذف الأعمدة المرتبطة\n",
    "x_reduced = x.drop(columns=to_drop)\n",
    "\n",
    "# طباعة الأعمدة اللي اتحذفت والنتيجة\n",
    "print(\"Features to drop:\", to_drop)\n",
    "print(\"\\nRemaining features:\")\n",
    "print(x_reduced)"
   ]
  },
  {
   "cell_type": "code",
   "execution_count": null,
   "id": "e760d3d3",
   "metadata": {},
   "outputs": [],
   "source": []
  }
 ],
 "metadata": {
  "kernelspec": {
   "display_name": "Python 3 (ipykernel)",
   "language": "python",
   "name": "python3"
  },
  "language_info": {
   "codemirror_mode": {
    "name": "ipython",
    "version": 3
   },
   "file_extension": ".py",
   "mimetype": "text/x-python",
   "name": "python",
   "nbconvert_exporter": "python",
   "pygments_lexer": "ipython3",
   "version": "3.9.17"
  }
 },
 "nbformat": 4,
 "nbformat_minor": 5
}
