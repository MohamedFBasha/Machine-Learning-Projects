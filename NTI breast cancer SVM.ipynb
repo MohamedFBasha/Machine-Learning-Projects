{
 "cells": [
  {
   "cell_type": "code",
   "execution_count": 5,
   "id": "2112ea63",
   "metadata": {},
   "outputs": [],
   "source": [
    "# استيراد المكتبات\n",
    "from sklearn.datasets import load_breast_cancer\n",
    "from sklearn.model_selection import train_test_split , cross_val_score\n",
    "from sklearn.neighbors import KNeighborsClassifier\n",
    "from sklearn.metrics import classification_report, confusion_matrix, accuracy_score\n",
    "import seaborn as sns\n",
    "import matplotlib.pyplot as plt\n",
    "\n",
    "data = load_breast_cancer()\n",
    "X = data.data\n",
    "y = data.target\n",
    "\n",
    "X_train, X_test, y_train, y_test = train_test_split(X, y, test_size=0.2, random_state=42)\n",
    "\n",
    "knn = KNeighborsClassifier(n_neighbors=5)  \n",
    "knn.fit(X_train, y_train)\n",
    "\n",
    "y_pred = knn.predict(X_test)\n",
    "\n"
   ]
  },
  {
   "cell_type": "code",
   "execution_count": 6,
   "id": "0bc42fa4",
   "metadata": {},
   "outputs": [
    {
     "data": {
      "text/plain": [
       "array([0.97826087, 0.97826087, 0.89130435, 0.86956522, 0.95652174,\n",
       "       0.97777778, 0.88888889, 0.88888889, 0.91111111, 0.84444444])"
      ]
     },
     "execution_count": 6,
     "metadata": {},
     "output_type": "execute_result"
    }
   ],
   "source": [
    "cross_val_score(knn,X_train, y_train,cv=10,scoring=\"accuracy\")"
   ]
  },
  {
   "cell_type": "code",
   "execution_count": 2,
   "id": "1aff2c69",
   "metadata": {},
   "outputs": [
    {
     "name": "stdout",
     "output_type": "stream",
     "text": [
      "1        92.98245614035088\n",
      "3        92.98245614035088\n",
      "5        95.6140350877193\n",
      "7        95.6140350877193\n",
      "9        95.6140350877193\n",
      "11        98.24561403508771\n",
      "13        97.36842105263158\n",
      "15        96.49122807017544\n",
      "17        96.49122807017544\n",
      "19        96.49122807017544\n",
      "21        96.49122807017544\n",
      "23        95.6140350877193\n",
      "25        94.73684210526315\n",
      "27        94.73684210526315\n",
      "29        94.73684210526315\n",
      "31        94.73684210526315\n",
      "33        94.73684210526315\n",
      "35        94.73684210526315\n",
      "37        94.73684210526315\n",
      "39        94.73684210526315\n",
      "41        94.73684210526315\n",
      "43        94.73684210526315\n",
      "45        94.73684210526315\n",
      "47        94.73684210526315\n",
      "49        94.73684210526315\n"
     ]
    }
   ],
   "source": [
    "for j in range(1,50 ,2):\n",
    "    knn = KNeighborsClassifier(n_neighbors=j) \n",
    "    knn.fit(X_train, y_train)\n",
    "    y_pred = knn.predict(X_test)\n",
    "    print(j, \"      \",accuracy_score(y_test,y_pred)*100)"
   ]
  },
  {
   "cell_type": "code",
   "execution_count": null,
   "id": "d9624794",
   "metadata": {},
   "outputs": [],
   "source": []
  },
  {
   "cell_type": "code",
   "execution_count": null,
   "id": "efd634f7",
   "metadata": {},
   "outputs": [],
   "source": []
  }
 ],
 "metadata": {
  "kernelspec": {
   "display_name": "Python 3 (ipykernel)",
   "language": "python",
   "name": "python3"
  },
  "language_info": {
   "codemirror_mode": {
    "name": "ipython",
    "version": 3
   },
   "file_extension": ".py",
   "mimetype": "text/x-python",
   "name": "python",
   "nbconvert_exporter": "python",
   "pygments_lexer": "ipython3",
   "version": "3.9.17"
  }
 },
 "nbformat": 4,
 "nbformat_minor": 5
}
