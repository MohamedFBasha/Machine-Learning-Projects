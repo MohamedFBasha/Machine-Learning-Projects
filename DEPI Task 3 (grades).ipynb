{
 "cells": [
  {
   "cell_type": "code",
   "execution_count": 1,
   "id": "4dd7070c",
   "metadata": {},
   "outputs": [
    {
     "name": "stdout",
     "output_type": "stream",
     "text": [
      "Enter your grade: 70\n",
      "Your GPA is: D\n"
     ]
    }
   ],
   "source": [
    "grade = float(input(\"Enter your grade: \"))\n",
    "\n",
    "if grade >= 90:\n",
    "    print(\"Your GPA is: A\")\n",
    "\n",
    "elif grade >= 85 and grade < 90:\n",
    "    print(\"Your GPA is: B\")\n",
    "\n",
    "elif grade >= 75 and grade < 85:\n",
    "    print(\"Your GPA is: C\")\n",
    "\n",
    "elif grade >= 65 and grade < 75:\n",
    "    print(\"Your GPA is: D\")\n",
    "\n",
    "else:\n",
    "    print(\"Your GPA is: Fail\")\n"
   ]
  },
  {
   "cell_type": "code",
   "execution_count": null,
   "id": "86b6ca50",
   "metadata": {},
   "outputs": [],
   "source": [
    "\n"
   ]
  }
 ],
 "metadata": {
  "kernelspec": {
   "display_name": "Python 3 (ipykernel)",
   "language": "python",
   "name": "python3"
  },
  "language_info": {
   "codemirror_mode": {
    "name": "ipython",
    "version": 3
   },
   "file_extension": ".py",
   "mimetype": "text/x-python",
   "name": "python",
   "nbconvert_exporter": "python",
   "pygments_lexer": "ipython3",
   "version": "3.9.17"
  }
 },
 "nbformat": 4,
 "nbformat_minor": 5
}
